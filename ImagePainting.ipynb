import cv2 as cv
import numpy as np


originImage = cv.imread("Your Image Address")
mask = np.zeros(originImage.shape[:2], dtype=np.uint8)
mask[310:505, 50:207] = 255
# mask[150:285, :200] = 255

imageMasked = cv.bitwise_and(originImage, originImage, mask=mask)

paintedImage = cv.inpaint(originImage, mask, 7, cv.INPAINT_TELEA)
cv.imwrite("Address To Save Your Painted Image", paintedImage)

cv.imshow("paintedImage", paintedImage)
cv.waitKey(0)
cv.destroyAllWindows()
